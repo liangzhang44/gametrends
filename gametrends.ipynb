{
 "cells": [
  {
   "cell_type": "code",
   "execution_count": 2,
   "metadata": {},
   "outputs": [],
   "source": [
    "import requests\n",
    "import simplejson as json"
   ]
  },
  {
   "cell_type": "code",
   "execution_count": 59,
   "metadata": {},
   "outputs": [],
   "source": [
    "url = 'https://api.twitch.tv/helix/games/top'\n",
    "params = { 'Client-ID':'k1jkbn1hpx54d9feahntrqou29zndo'}\n",
    "response = requests.get(url, headers=params)\n",
    "df1 = response.json()\n",
    "df1 = df1['data']"
   ]
  },
  {
   "cell_type": "code",
   "execution_count": 60,
   "metadata": {},
   "outputs": [
    {
     "data": {
      "text/plain": [
       "{'id': '33214',\n",
       " 'name': 'Fortnite',\n",
       " 'box_art_url': 'https://static-cdn.jtvnw.net/ttv-boxart/Fortnite-{width}x{height}.jpg'}"
      ]
     },
     "execution_count": 60,
     "metadata": {},
     "output_type": "execute_result"
    }
   ],
   "source": [
    "df1[0]"
   ]
  },
  {
   "cell_type": "code",
   "execution_count": 61,
   "metadata": {},
   "outputs": [],
   "source": [
    "url2 = 'https://steamspy.com/api.php'\n",
    "params = {'request': 'top100forever'}\n",
    "response = requests.get(url2, params=params)\n",
    "df2 = response.json()\n",
    "df2 = [v['name'] for k, v in df2.items()]"
   ]
  },
  {
   "cell_type": "code",
   "execution_count": 62,
   "metadata": {},
   "outputs": [
    {
     "data": {
      "text/plain": [
       "{'appid': 570,\n",
       " 'name': 'Dota 2',\n",
       " 'developer': 'Valve',\n",
       " 'publisher': 'Valve',\n",
       " 'score_rank': 65,\n",
       " 'positive': 849330,\n",
       " 'negative': 136622,\n",
       " 'userscore': 86,\n",
       " 'owners': '100,000,000 .. 200,000,000',\n",
       " 'average_forever': 29846,\n",
       " 'average_2weeks': 1537,\n",
       " 'median_forever': 537,\n",
       " 'median_2weeks': 805,\n",
       " 'price': '0',\n",
       " 'initialprice': '0',\n",
       " 'discount': '0'}"
      ]
     },
     "execution_count": 62,
     "metadata": {},
     "output_type": "execute_result"
    }
   ],
   "source": [
    "df2 = response.json()\n",
    "df2['570']"
   ]
  },
  {
   "cell_type": "code",
   "execution_count": 63,
   "metadata": {},
   "outputs": [],
   "source": [
    "game_id = '730'\n",
    "game_link = 'https://steamdb.info/embed/?appid=' + game_id\n",
    "params = {'request': 'appdetails', 'appid' : game_id}\n",
    "response = requests.get(url2, params=params)\n",
    "df3 = response.json()"
   ]
  },
  {
   "cell_type": "code",
   "execution_count": 64,
   "metadata": {},
   "outputs": [
    {
     "data": {
      "text/plain": [
       "{'appid': 730,\n",
       " 'name': 'Counter-Strike: Global Offensive',\n",
       " 'developer': 'Valve, Hidden Path Entertainment',\n",
       " 'publisher': 'Valve',\n",
       " 'score_rank': 65,\n",
       " 'positive': 2545476,\n",
       " 'negative': 384825,\n",
       " 'userscore': 86,\n",
       " 'owners': '20,000,000 .. 50,000,000',\n",
       " 'average_forever': 32236,\n",
       " 'average_2weeks': 922,\n",
       " 'median_forever': 13363,\n",
       " 'median_2weeks': 412,\n",
       " 'price': '0',\n",
       " 'initialprice': '0',\n",
       " 'discount': '0',\n",
       " 'languages': 'Czech, Danish, Dutch, English, Finnish, French, German, Hungarian, Italian, Japanese, Korean, Norwegian, Polish, Portuguese, Portuguese - Brazil, Romanian, Russian, Simplified Chinese, Spanish - Spain, Swedish, Thai, Traditional Chinese, Turkish, Bulgarian, Ukrainian',\n",
       " 'genre': 'Action, Free to Play',\n",
       " 'ccu': 589037,\n",
       " 'tags': {'FPS': 20166,\n",
       "  'Multiplayer': 16296,\n",
       "  'Shooter': 15208,\n",
       "  'Action': 12780,\n",
       "  'Team-Based': 12263,\n",
       "  'Competitive': 11560,\n",
       "  'Tactical': 10122,\n",
       "  'First-Person': 8989,\n",
       "  'e-sports': 8239,\n",
       "  'PvP': 7775,\n",
       "  'Online Co-Op': 7120,\n",
       "  'Military': 5736,\n",
       "  'Co-op': 5474,\n",
       "  'Strategy': 5461,\n",
       "  'War': 5366,\n",
       "  'Trading': 3973,\n",
       "  'Difficult': 3936,\n",
       "  'Realistic': 3903,\n",
       "  'Fast-Paced': 3861,\n",
       "  'Moddable': 3145}}"
      ]
     },
     "execution_count": 64,
     "metadata": {},
     "output_type": "execute_result"
    }
   ],
   "source": [
    "df3"
   ]
  }
 ],
 "metadata": {
  "kernelspec": {
   "display_name": "Python 3",
   "language": "python",
   "name": "python3"
  },
  "language_info": {
   "codemirror_mode": {
    "name": "ipython",
    "version": 3
   },
   "file_extension": ".py",
   "mimetype": "text/x-python",
   "name": "python",
   "nbconvert_exporter": "python",
   "pygments_lexer": "ipython3",
   "version": "3.7.1"
  }
 },
 "nbformat": 4,
 "nbformat_minor": 2
}
