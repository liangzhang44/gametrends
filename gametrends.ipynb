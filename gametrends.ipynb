{
 "cells": [
  {
   "cell_type": "code",
   "execution_count": 1,
   "metadata": {},
   "outputs": [],
   "source": [
    "import requests\n",
    "import simplejson as json"
   ]
  },
  {
   "cell_type": "markdown",
   "metadata": {},
   "source": [
    "## Retrieve top 20 games by views at the current moment from Twitch"
   ]
  },
  {
   "cell_type": "code",
   "execution_count": 59,
   "metadata": {},
   "outputs": [],
   "source": [
    "url = 'https://api.twitch.tv/helix/games/top'\n",
    "params = { 'Client-ID':'k1jkbn1hpx54d9feahntrqou29zndo'}\n",
    "response = requests.get(url, headers=params)\n",
    "df1 = response.json()\n",
    "df1 = df1['data']"
   ]
  },
  {
   "cell_type": "code",
   "execution_count": 60,
   "metadata": {},
   "outputs": [
    {
     "data": {
      "text/plain": [
       "{'id': '33214',\n",
       " 'name': 'Fortnite',\n",
       " 'box_art_url': 'https://static-cdn.jtvnw.net/ttv-boxart/Fortnite-{width}x{height}.jpg'}"
      ]
     },
     "execution_count": 60,
     "metadata": {},
     "output_type": "execute_result"
    }
   ],
   "source": [
    "df1[0]"
   ]
  },
  {
   "cell_type": "markdown",
   "metadata": {},
   "source": [
    "## Retrieve top 100 games of all time from steamspy"
   ]
  },
  {
   "cell_type": "code",
   "execution_count": 4,
   "metadata": {},
   "outputs": [],
   "source": [
    "url2 = 'https://steamspy.com/api.php'\n",
    "params = {'request': 'top100forever'}\n",
    "response = requests.get(url2, params=params)\n",
    "df2 = response.json()\n",
    "df2 = [v['name'] for k, v in df2.items()]"
   ]
  },
  {
   "cell_type": "code",
   "execution_count": 5,
   "metadata": {},
   "outputs": [
    {
     "data": {
      "text/plain": [
       "{'appid': 570,\n",
       " 'name': 'Dota 2',\n",
       " 'developer': 'Valve',\n",
       " 'publisher': 'Valve',\n",
       " 'score_rank': 65,\n",
       " 'positive': 850187,\n",
       " 'negative': 136875,\n",
       " 'userscore': 86,\n",
       " 'owners': '100,000,000 .. 200,000,000',\n",
       " 'average_forever': 30238,\n",
       " 'average_2weeks': 1498,\n",
       " 'median_forever': 560,\n",
       " 'median_2weeks': 788,\n",
       " 'price': '0',\n",
       " 'initialprice': '0',\n",
       " 'discount': '0'}"
      ]
     },
     "execution_count": 5,
     "metadata": {},
     "output_type": "execute_result"
    }
   ],
   "source": [
    "df2 = response.json()\n",
    "df2['570']"
   ]
  },
  {
   "cell_type": "code",
   "execution_count": 6,
   "metadata": {},
   "outputs": [],
   "source": [
    "game_id = '730'\n",
    "params = {'request': 'appdetails', 'appid' : game_id}\n",
    "response = requests.get(url2, params=params)\n",
    "df3 = response.json()"
   ]
  },
  {
   "cell_type": "code",
   "execution_count": 7,
   "metadata": {},
   "outputs": [
    {
     "data": {
      "text/plain": [
       "{'appid': 730,\n",
       " 'name': 'Counter-Strike: Global Offensive',\n",
       " 'developer': 'Valve, Hidden Path Entertainment',\n",
       " 'publisher': 'Valve',\n",
       " 'score_rank': 65,\n",
       " 'positive': 2551047,\n",
       " 'negative': 386285,\n",
       " 'userscore': 86,\n",
       " 'owners': '20,000,000 .. 50,000,000',\n",
       " 'average_forever': 32304,\n",
       " 'average_2weeks': 932,\n",
       " 'median_forever': 13389,\n",
       " 'median_2weeks': 418,\n",
       " 'price': '0',\n",
       " 'initialprice': '0',\n",
       " 'discount': '0',\n",
       " 'languages': 'English, Czech, Danish, Dutch, Finnish, French, German, Hungarian, Italian, Japanese, Korean, Norwegian, Polish, Portuguese, Portuguese - Brazil, Romanian, Russian, Simplified Chinese, Spanish - Spain, Swedish, Thai, Traditional Chinese, Turkish, Bulgarian, Ukrainian',\n",
       " 'genre': 'Action, Free to Play',\n",
       " 'ccu': 600093,\n",
       " 'tags': {'FPS': 20194,\n",
       "  'Multiplayer': 16318,\n",
       "  'Shooter': 15230,\n",
       "  'Action': 12798,\n",
       "  'Team-Based': 12276,\n",
       "  'Competitive': 11571,\n",
       "  'Tactical': 10129,\n",
       "  'First-Person': 9003,\n",
       "  'e-sports': 8253,\n",
       "  'PvP': 7786,\n",
       "  'Online Co-Op': 7127,\n",
       "  'Military': 5747,\n",
       "  'Co-op': 5483,\n",
       "  'Strategy': 5470,\n",
       "  'War': 5376,\n",
       "  'Trading': 3977,\n",
       "  'Difficult': 3942,\n",
       "  'Realistic': 3909,\n",
       "  'Fast-Paced': 3866,\n",
       "  'Moddable': 3150}}"
      ]
     },
     "execution_count": 7,
     "metadata": {},
     "output_type": "execute_result"
    }
   ],
   "source": [
    "df3"
   ]
  },
  {
   "cell_type": "markdown",
   "metadata": {},
   "source": [
    "## List of all games from steam"
   ]
  },
  {
   "cell_type": "code",
   "execution_count": 68,
   "metadata": {},
   "outputs": [],
   "source": [
    "steam_url = 'https://api.steampowered.com/ISteamApps/GetAppList/v2'\n",
    "response = requests.get(steam_url)\n",
    "gamelist1 = response.json()"
   ]
  },
  {
   "cell_type": "code",
   "execution_count": 102,
   "metadata": {},
   "outputs": [
    {
     "data": {
      "text/plain": [
       "73596"
      ]
     },
     "execution_count": 102,
     "metadata": {},
     "output_type": "execute_result"
    }
   ],
   "source": [
    "len(gamelist1['applist']['apps'])"
   ]
  },
  {
   "cell_type": "markdown",
   "metadata": {},
   "source": [
    "## List of games in the steam store"
   ]
  },
  {
   "cell_type": "code",
   "execution_count": 86,
   "metadata": {},
   "outputs": [],
   "source": [
    "steam_url = 'https://api.steampowered.com/IStoreService/GetAppList/v1'\n",
    "params = {'key':'6BBD8CF716597E02FBACE2E2D934395C', 'max_results':50000}\n",
    "response = requests.get(steam_url, params=params)\n",
    "gamelist2 = response.json()"
   ]
  },
  {
   "cell_type": "code",
   "execution_count": 90,
   "metadata": {},
   "outputs": [
    {
     "data": {
      "text/plain": [
       "30146"
      ]
     },
     "execution_count": 90,
     "metadata": {},
     "output_type": "execute_result"
    }
   ],
   "source": [
    "len(gamelist2['response']['apps'])"
   ]
  },
  {
   "cell_type": "code",
   "execution_count": 91,
   "metadata": {},
   "outputs": [
    {
     "data": {
      "text/plain": [
       "[{'appid': 10,\n",
       "  'name': 'Counter-Strike',\n",
       "  'last_modified': 1528733245,\n",
       "  'price_change_number': 5625641},\n",
       " {'appid': 20,\n",
       "  'name': 'Team Fortress Classic',\n",
       "  'last_modified': 1528732825,\n",
       "  'price_change_number': 5625641},\n",
       " {'appid': 30,\n",
       "  'name': 'Day of Defeat',\n",
       "  'last_modified': 1512413490,\n",
       "  'price_change_number': 5625641}]"
      ]
     },
     "execution_count": 91,
     "metadata": {},
     "output_type": "execute_result"
    }
   ],
   "source": [
    "gamelist2['response']['apps'][:3]"
   ]
  },
  {
   "cell_type": "code",
   "execution_count": 104,
   "metadata": {},
   "outputs": [],
   "source": [
    "gamelist = [entry['appid'] for entry in gamelist2['response']['apps']]"
   ]
  },
  {
   "cell_type": "code",
   "execution_count": 112,
   "metadata": {},
   "outputs": [],
   "source": [
    "steamspy_url = 'https://steamspy.com/api.php'\n",
    "game_db1 = []\n",
    "for i in range(10000):\n",
    "    params = {'request': 'appdetails', 'appid' : gamelist[i]}\n",
    "    response = requests.get(steamspy_url, params=params)\n",
    "    game_db1.append(response.json())"
   ]
  },
  {
   "cell_type": "code",
   "execution_count": 116,
   "metadata": {},
   "outputs": [
    {
     "data": {
      "text/plain": [
       "{'appid': 10,\n",
       " 'name': 'Counter-Strike',\n",
       " 'developer': 'Valve',\n",
       " 'publisher': 'Valve',\n",
       " 'score_rank': 97,\n",
       " 'positive': 122294,\n",
       " 'negative': 3213,\n",
       " 'userscore': 96,\n",
       " 'owners': '10,000,000 .. 20,000,000',\n",
       " 'average_forever': 11035,\n",
       " 'average_2weeks': 938,\n",
       " 'median_forever': 192,\n",
       " 'median_2weeks': 42,\n",
       " 'price': '999',\n",
       " 'initialprice': '999',\n",
       " 'discount': '0',\n",
       " 'languages': 'English, French, German, Italian, Spanish - Spain, Simplified Chinese, Traditional Chinese, Korean',\n",
       " 'genre': 'Action',\n",
       " 'ccu': 20192,\n",
       " 'tags': {'Action': 2663,\n",
       "  'FPS': 2032,\n",
       "  'Multiplayer': 1642,\n",
       "  'Shooter': 1407,\n",
       "  'Classic': 1334,\n",
       "  'Team-Based': 932,\n",
       "  'First-Person': 788,\n",
       "  'Competitive': 782,\n",
       "  'Tactical': 723,\n",
       "  \"1990's\": 559,\n",
       "  'e-sports': 545,\n",
       "  'PvP': 471,\n",
       "  'Military': 360,\n",
       "  'Strategy': 322,\n",
       "  'Score Attack': 196,\n",
       "  'Survival': 188,\n",
       "  'Old School': 159,\n",
       "  'Assassin': 146,\n",
       "  '1980s': 141,\n",
       "  'Violent': 30}}"
      ]
     },
     "execution_count": 116,
     "metadata": {},
     "output_type": "execute_result"
    }
   ],
   "source": [
    "game_db1[0]"
   ]
  },
  {
   "cell_type": "code",
   "execution_count": 118,
   "metadata": {},
   "outputs": [],
   "source": [
    "import pickle\n",
    "with open(\"game_db.txt\", \"wb\") as file:\n",
    "    pickle.dump(game_db1, file)"
   ]
  },
  {
   "cell_type": "code",
   "execution_count": 119,
   "metadata": {},
   "outputs": [],
   "source": [
    "with open(\"game_db.txt\", \"rb\") as file:\n",
    "    temp = pickle.load(file)"
   ]
  },
  {
   "cell_type": "markdown",
   "metadata": {},
   "source": [
    "## Play Summary"
   ]
  },
  {
   "cell_type": "code",
   "execution_count": 65,
   "metadata": {},
   "outputs": [],
   "source": [
    "steam_url = 'https://api.steampowered.com/ISteamUser/GetPlayerSummaries/v1'\n",
    "params = {'key':'6BBD8CF716597E02FBACE2E2D934395C', 'steamids':76561198046313263}\n",
    "response = requests.get(steam_url, params=params)\n",
    "player_summary = response.json()"
   ]
  },
  {
   "cell_type": "code",
   "execution_count": 66,
   "metadata": {
    "scrolled": true
   },
   "outputs": [
    {
     "data": {
      "text/plain": [
       "{'response': {'players': {'player': [{'steamid': '76561198046313263',\n",
       "     'communityvisibilitystate': 3,\n",
       "     'profilestate': 1,\n",
       "     'personaname': 'hughzl',\n",
       "     'lastlogoff': 1548279036,\n",
       "     'profileurl': 'https://steamcommunity.com/profiles/76561198046313263/',\n",
       "     'avatar': 'https://steamcdn-a.akamaihd.net/steamcommunity/public/images/avatars/f5/f5a725aa7c20e08252202f8a90ffa87c80b6777b.jpg',\n",
       "     'avatarmedium': 'https://steamcdn-a.akamaihd.net/steamcommunity/public/images/avatars/f5/f5a725aa7c20e08252202f8a90ffa87c80b6777b_medium.jpg',\n",
       "     'avatarfull': 'https://steamcdn-a.akamaihd.net/steamcommunity/public/images/avatars/f5/f5a725aa7c20e08252202f8a90ffa87c80b6777b_full.jpg',\n",
       "     'personastate': 3,\n",
       "     'primaryclanid': '103582791429521408',\n",
       "     'timecreated': 1312356562,\n",
       "     'personastateflags': 0,\n",
       "     'loccountrycode': 'US',\n",
       "     'locstatecode': 'WA',\n",
       "     'loccityid': 4030}]}}}"
      ]
     },
     "execution_count": 66,
     "metadata": {},
     "output_type": "execute_result"
    }
   ],
   "source": [
    "player_summary"
   ]
  },
  {
   "cell_type": "markdown",
   "metadata": {},
   "source": [
    "## Retrieve steamID by vanityURL"
   ]
  },
  {
   "cell_type": "code",
   "execution_count": 62,
   "metadata": {},
   "outputs": [],
   "source": [
    "steam_url = 'https://api.steampowered.com/ISteamUser/ResolveVanityURL/v1'\n",
    "params = {'key':'6BBD8CF716597E02FBACE2E2D934395C', 'vanityurl':'gregrobertson'}\n",
    "response = requests.get(steam_url, params=params)\n",
    "steamID = response.json()"
   ]
  },
  {
   "cell_type": "code",
   "execution_count": 63,
   "metadata": {},
   "outputs": [
    {
     "data": {
      "text/plain": [
       "{'response': {'steamid': '76561198221259664', 'success': 1}}"
      ]
     },
     "execution_count": 63,
     "metadata": {},
     "output_type": "execute_result"
    }
   ],
   "source": [
    "steamID"
   ]
  },
  {
   "cell_type": "markdown",
   "metadata": {},
   "source": [
    "## Number of current players for a game"
   ]
  },
  {
   "cell_type": "code",
   "execution_count": 46,
   "metadata": {},
   "outputs": [],
   "source": [
    "steam_url = 'https://api.steampowered.com/ISteamUserStats/GetNumberOfCurrentPlayers/v1'\n",
    "params = {'appid':'570'}\n",
    "response = requests.get(steam_url, params=params)\n",
    "num_current_players = response.json()"
   ]
  },
  {
   "cell_type": "code",
   "execution_count": 47,
   "metadata": {},
   "outputs": [
    {
     "data": {
      "text/plain": [
       "{'response': {'player_count': 309508, 'result': 1}}"
      ]
     },
     "execution_count": 47,
     "metadata": {},
     "output_type": "execute_result"
    }
   ],
   "source": [
    "num_current_players"
   ]
  },
  {
   "cell_type": "markdown",
   "metadata": {},
   "source": [
    "## Recently played games of a player"
   ]
  },
  {
   "cell_type": "code",
   "execution_count": 95,
   "metadata": {},
   "outputs": [],
   "source": [
    "steam_url = 'https://api.steampowered.com/IPlayerService/GetRecentlyPlayedGames/v1'\n",
    "params = {'key':'6BBD8CF716597E02FBACE2E2D934395C', 'steamid':76561198046313263}\n",
    "response = requests.get(steam_url, params=params)\n",
    "recent_games = response.json()"
   ]
  },
  {
   "cell_type": "code",
   "execution_count": 96,
   "metadata": {},
   "outputs": [
    {
     "data": {
      "text/plain": [
       "{'response': {'total_count': 0}}"
      ]
     },
     "execution_count": 96,
     "metadata": {},
     "output_type": "execute_result"
    }
   ],
   "source": [
    "recent_games"
   ]
  },
  {
   "cell_type": "markdown",
   "metadata": {},
   "source": [
    "## Owned games of a player"
   ]
  },
  {
   "cell_type": "code",
   "execution_count": 99,
   "metadata": {},
   "outputs": [],
   "source": [
    "steam_url = 'https://api.steampowered.com/IPlayerService/GetOwnedGames/v1'\n",
    "params = {'key':'6BBD8CF716597E02FBACE2E2D934395C', 'steamid':76561198046313263}\n",
    "response = requests.get(steam_url, params=params)\n",
    "owned_games = response.json()"
   ]
  },
  {
   "cell_type": "code",
   "execution_count": 101,
   "metadata": {},
   "outputs": [
    {
     "data": {
      "text/plain": [
       "{'game_count': 87,\n",
       " 'games': [{'appid': 6910, 'playtime_forever': 0},\n",
       "  {'appid': 6920, 'playtime_forever': 0},\n",
       "  {'appid': 400, 'playtime_forever': 7},\n",
       "  {'appid': 22370, 'playtime_forever': 0},\n",
       "  {'appid': 620, 'playtime_forever': 0},\n",
       "  {'appid': 28050, 'playtime_forever': 34},\n",
       "  {'appid': 107100, 'playtime_forever': 19},\n",
       "  {'appid': 72850, 'playtime_forever': 53},\n",
       "  {'appid': 22380, 'playtime_forever': 0},\n",
       "  {'appid': 102500, 'playtime_forever': 16},\n",
       "  {'appid': 200710, 'playtime_forever': 0},\n",
       "  {'appid': 228280, 'playtime_forever': 0},\n",
       "  {'appid': 109600, 'playtime_forever': 87},\n",
       "  {'appid': 230410, 'playtime_forever': 132},\n",
       "  {'appid': 219990, 'playtime_forever': 0},\n",
       "  {'appid': 257350, 'playtime_forever': 0},\n",
       "  {'appid': 49520, 'playtime_forever': 1326},\n",
       "  {'appid': 278080, 'playtime_forever': 21},\n",
       "  {'appid': 279800, 'playtime_forever': 0},\n",
       "  {'appid': 284850, 'playtime_forever': 0},\n",
       "  {'appid': 286690, 'playtime_forever': 0},\n",
       "  {'appid': 287390, 'playtime_forever': 0},\n",
       "  {'appid': 258180, 'playtime_forever': 0},\n",
       "  {'appid': 237930, 'playtime_forever': 6},\n",
       "  {'appid': 38420, 'playtime_forever': 0},\n",
       "  {'appid': 38400, 'playtime_forever': 0},\n",
       "  {'appid': 38410, 'playtime_forever': 0},\n",
       "  {'appid': 238010, 'playtime_forever': 0},\n",
       "  {'appid': 22100, 'playtime_forever': 18},\n",
       "  {'appid': 48700, 'playtime_forever': 0},\n",
       "  {'appid': 48720, 'playtime_forever': 0},\n",
       "  {'appid': 321800, 'playtime_forever': 0},\n",
       "  {'appid': 323370, 'playtime_forever': 0},\n",
       "  {'appid': 319630, 'playtime_forever': 0},\n",
       "  {'appid': 266510, 'playtime_forever': 0},\n",
       "  {'appid': 350640, 'playtime_forever': 15},\n",
       "  {'appid': 363150, 'playtime_forever': 124},\n",
       "  {'appid': 345180, 'playtime_forever': 116},\n",
       "  {'appid': 396750, 'playtime_forever': 0},\n",
       "  {'appid': 391220, 'playtime_forever': 181},\n",
       "  {'appid': 374320, 'playtime_forever': 25},\n",
       "  {'appid': 445980, 'playtime_forever': 24},\n",
       "  {'appid': 456670, 'playtime_forever': 0},\n",
       "  {'appid': 458470, 'playtime_forever': 32},\n",
       "  {'appid': 460790, 'playtime_forever': 0},\n",
       "  {'appid': 466300, 'playtime_forever': 2},\n",
       "  {'appid': 377160, 'playtime_forever': 19},\n",
       "  {'appid': 379720, 'playtime_forever': 6},\n",
       "  {'appid': 475150, 'playtime_forever': 0},\n",
       "  {'appid': 480490, 'playtime_forever': 74},\n",
       "  {'appid': 485510, 'playtime_forever': 0},\n",
       "  {'appid': 487000, 'playtime_forever': 9},\n",
       "  {'appid': 442080, 'playtime_forever': 11},\n",
       "  {'appid': 506140, 'playtime_forever': 16284},\n",
       "  {'appid': 289070, 'playtime_forever': 732},\n",
       "  {'appid': 337000, 'playtime_forever': 0},\n",
       "  {'appid': 292030, 'playtime_forever': 183},\n",
       "  {'appid': 7670, 'playtime_forever': 0},\n",
       "  {'appid': 8850, 'playtime_forever': 0},\n",
       "  {'appid': 8870, 'playtime_forever': 0},\n",
       "  {'appid': 409710, 'playtime_forever': 0},\n",
       "  {'appid': 409720, 'playtime_forever': 0},\n",
       "  {'appid': 531640, 'playtime_forever': 194},\n",
       "  {'appid': 557600, 'playtime_forever': 53},\n",
       "  {'appid': 558990, 'playtime_forever': 16},\n",
       "  {'appid': 524220, 'playtime_forever': 494},\n",
       "  {'appid': 356190, 'playtime_forever': 42},\n",
       "  {'appid': 615010, 'playtime_forever': 20},\n",
       "  {'appid': 374040, 'playtime_forever': 25},\n",
       "  {'appid': 646570, 'playtime_forever': 32},\n",
       "  {'appid': 215280, 'playtime_forever': 1370},\n",
       "  {'appid': 435150, 'playtime_forever': 89},\n",
       "  {'appid': 404680, 'playtime_forever': 10},\n",
       "  {'appid': 736190, 'playtime_forever': 0},\n",
       "  {'appid': 582160, 'playtime_forever': 45},\n",
       "  {'appid': 379430, 'playtime_forever': 17},\n",
       "  {'appid': 637650, 'playtime_forever': 0},\n",
       "  {'appid': 560130, 'playtime_forever': 77},\n",
       "  {'appid': 585450, 'playtime_forever': 23},\n",
       "  {'appid': 750920, 'playtime_forever': 0},\n",
       "  {'appid': 882790, 'playtime_forever': 481},\n",
       "  {'appid': 582010, 'playtime_forever': 71},\n",
       "  {'appid': 365450, 'playtime_forever': 8},\n",
       "  {'appid': 812140, 'playtime_forever': 0},\n",
       "  {'appid': 583950, 'playtime_forever': 56},\n",
       "  {'appid': 973760, 'playtime_forever': 26},\n",
       "  {'appid': 20900, 'playtime_forever': 0}]}"
      ]
     },
     "execution_count": 101,
     "metadata": {},
     "output_type": "execute_result"
    }
   ],
   "source": [
    "owned_games['response']"
   ]
  },
  {
   "cell_type": "code",
   "execution_count": 111,
   "metadata": {
    "scrolled": false
   },
   "outputs": [
    {
     "data": {
      "text/plain": [
       "{'appid': 10,\n",
       " 'name': 'Counter-Strike',\n",
       " 'developer': 'Valve',\n",
       " 'publisher': 'Valve',\n",
       " 'score_rank': 97,\n",
       " 'positive': 122294,\n",
       " 'negative': 3213,\n",
       " 'userscore': 96,\n",
       " 'owners': '10,000,000 .. 20,000,000',\n",
       " 'average_forever': 11035,\n",
       " 'average_2weeks': 938,\n",
       " 'median_forever': 192,\n",
       " 'median_2weeks': 42,\n",
       " 'price': '999',\n",
       " 'initialprice': '999',\n",
       " 'discount': '0',\n",
       " 'languages': 'English, French, German, Italian, Spanish - Spain, Simplified Chinese, Traditional Chinese, Korean',\n",
       " 'genre': 'Action',\n",
       " 'ccu': 20192,\n",
       " 'tags': {'Action': 2663,\n",
       "  'FPS': 2032,\n",
       "  'Multiplayer': 1642,\n",
       "  'Shooter': 1407,\n",
       "  'Classic': 1334,\n",
       "  'Team-Based': 932,\n",
       "  'First-Person': 788,\n",
       "  'Competitive': 782,\n",
       "  'Tactical': 723,\n",
       "  \"1990's\": 559,\n",
       "  'e-sports': 545,\n",
       "  'PvP': 471,\n",
       "  'Military': 360,\n",
       "  'Strategy': 322,\n",
       "  'Score Attack': 196,\n",
       "  'Survival': 188,\n",
       "  'Old School': 159,\n",
       "  'Assassin': 146,\n",
       "  '1980s': 141,\n",
       "  'Violent': 30}}"
      ]
     },
     "execution_count": 111,
     "metadata": {},
     "output_type": "execute_result"
    }
   ],
   "source": [
    "game_db[0]"
   ]
  },
  {
   "cell_type": "code",
   "execution_count": 164,
   "metadata": {},
   "outputs": [],
   "source": [
    "def shorten(db):\n",
    "    for entry in db:\n",
    "        entry['tags'] = len(entry['tags'])\n",
    "    return db\n",
    "game_db_short = shorten(game_db)"
   ]
  },
  {
   "cell_type": "code",
   "execution_count": 165,
   "metadata": {},
   "outputs": [
    {
     "data": {
      "text/plain": [
       "{'appid': 10,\n",
       " 'name': 'Counter-Strike',\n",
       " 'developer': 'Valve',\n",
       " 'publisher': 'Valve',\n",
       " 'score_rank': 97,\n",
       " 'positive': 122294,\n",
       " 'negative': 3213,\n",
       " 'userscore': 96,\n",
       " 'owners': '10,000,000 .. 20,000,000',\n",
       " 'average_forever': 11035,\n",
       " 'average_2weeks': 938,\n",
       " 'median_forever': 192,\n",
       " 'median_2weeks': 42,\n",
       " 'price': '999',\n",
       " 'initialprice': '999',\n",
       " 'discount': '0',\n",
       " 'languages': 'English, French, German, Italian, Spanish - Spain, Simplified Chinese, Traditional Chinese, Korean',\n",
       " 'genre': 'Action',\n",
       " 'ccu': 20192,\n",
       " 'tags': 20}"
      ]
     },
     "execution_count": 165,
     "metadata": {},
     "output_type": "execute_result"
    }
   ],
   "source": [
    "game_db_short[0]"
   ]
  },
  {
   "cell_type": "code",
   "execution_count": 166,
   "metadata": {},
   "outputs": [],
   "source": [
    "from pandas.io.json import json_normalize\n",
    "import pandas as pd\n",
    "df = pd.DataFrame()\n",
    "for i in range(1000):\n",
    "    temp = game_db_short[i]\n",
    "    temp_df = pd.DataFrame.from_dict(json_normalize(temp), orient='columns')\n",
    "    df = df.append(temp_df, ignore_index=True)"
   ]
  },
  {
   "cell_type": "code",
   "execution_count": 168,
   "metadata": {},
   "outputs": [],
   "source": [
    "df.to_csv('game_db.csv')"
   ]
  },
  {
   "cell_type": "code",
   "execution_count": 170,
   "metadata": {},
   "outputs": [
    {
     "data": {
      "text/html": [
       "<div>\n",
       "<style scoped>\n",
       "    .dataframe tbody tr th:only-of-type {\n",
       "        vertical-align: middle;\n",
       "    }\n",
       "\n",
       "    .dataframe tbody tr th {\n",
       "        vertical-align: top;\n",
       "    }\n",
       "\n",
       "    .dataframe thead th {\n",
       "        text-align: right;\n",
       "    }\n",
       "</style>\n",
       "<table border=\"1\" class=\"dataframe\">\n",
       "  <thead>\n",
       "    <tr style=\"text-align: right;\">\n",
       "      <th></th>\n",
       "      <th>Unnamed: 0</th>\n",
       "      <th>appid</th>\n",
       "      <th>average_2weeks</th>\n",
       "      <th>average_forever</th>\n",
       "      <th>ccu</th>\n",
       "      <th>developer</th>\n",
       "      <th>discount</th>\n",
       "      <th>genre</th>\n",
       "      <th>initialprice</th>\n",
       "      <th>languages</th>\n",
       "      <th>...</th>\n",
       "      <th>median_forever</th>\n",
       "      <th>name</th>\n",
       "      <th>negative</th>\n",
       "      <th>owners</th>\n",
       "      <th>positive</th>\n",
       "      <th>price</th>\n",
       "      <th>publisher</th>\n",
       "      <th>score_rank</th>\n",
       "      <th>tags</th>\n",
       "      <th>userscore</th>\n",
       "    </tr>\n",
       "  </thead>\n",
       "  <tbody>\n",
       "    <tr>\n",
       "      <th>0</th>\n",
       "      <td>0</td>\n",
       "      <td>10</td>\n",
       "      <td>938</td>\n",
       "      <td>11035</td>\n",
       "      <td>20192</td>\n",
       "      <td>Valve</td>\n",
       "      <td>0</td>\n",
       "      <td>Action</td>\n",
       "      <td>999</td>\n",
       "      <td>English, French, German, Italian, Spanish - Sp...</td>\n",
       "      <td>...</td>\n",
       "      <td>192</td>\n",
       "      <td>Counter-Strike</td>\n",
       "      <td>3213</td>\n",
       "      <td>10,000,000 .. 20,000,000</td>\n",
       "      <td>122294</td>\n",
       "      <td>999</td>\n",
       "      <td>Valve</td>\n",
       "      <td>97.0</td>\n",
       "      <td>20</td>\n",
       "      <td>96</td>\n",
       "    </tr>\n",
       "    <tr>\n",
       "      <th>1</th>\n",
       "      <td>1</td>\n",
       "      <td>20</td>\n",
       "      <td>512</td>\n",
       "      <td>456</td>\n",
       "      <td>99</td>\n",
       "      <td>Valve</td>\n",
       "      <td>0</td>\n",
       "      <td>Action</td>\n",
       "      <td>499</td>\n",
       "      <td>English, French, German, Italian, Spanish - Sp...</td>\n",
       "      <td>...</td>\n",
       "      <td>15</td>\n",
       "      <td>Team Fortress Classic</td>\n",
       "      <td>624</td>\n",
       "      <td>5,000,000 .. 10,000,000</td>\n",
       "      <td>3230</td>\n",
       "      <td>499</td>\n",
       "      <td>Valve</td>\n",
       "      <td>58.0</td>\n",
       "      <td>20</td>\n",
       "      <td>81</td>\n",
       "    </tr>\n",
       "    <tr>\n",
       "      <th>2</th>\n",
       "      <td>2</td>\n",
       "      <td>30</td>\n",
       "      <td>531</td>\n",
       "      <td>1913</td>\n",
       "      <td>155</td>\n",
       "      <td>Valve</td>\n",
       "      <td>0</td>\n",
       "      <td>Action</td>\n",
       "      <td>499</td>\n",
       "      <td>English, French, German, Italian, Spanish - Spain</td>\n",
       "      <td>...</td>\n",
       "      <td>16</td>\n",
       "      <td>Day of Defeat</td>\n",
       "      <td>384</td>\n",
       "      <td>5,000,000 .. 10,000,000</td>\n",
       "      <td>3363</td>\n",
       "      <td>499</td>\n",
       "      <td>Valve</td>\n",
       "      <td>74.0</td>\n",
       "      <td>15</td>\n",
       "      <td>86</td>\n",
       "    </tr>\n",
       "    <tr>\n",
       "      <th>3</th>\n",
       "      <td>3</td>\n",
       "      <td>40</td>\n",
       "      <td>989</td>\n",
       "      <td>1834</td>\n",
       "      <td>6</td>\n",
       "      <td>Valve</td>\n",
       "      <td>0</td>\n",
       "      <td>Action</td>\n",
       "      <td>499</td>\n",
       "      <td>English, French, German, Italian, Spanish - Sp...</td>\n",
       "      <td>...</td>\n",
       "      <td>8</td>\n",
       "      <td>Deathmatch Classic</td>\n",
       "      <td>265</td>\n",
       "      <td>5,000,000 .. 10,000,000</td>\n",
       "      <td>1244</td>\n",
       "      <td>499</td>\n",
       "      <td>Valve</td>\n",
       "      <td>56.0</td>\n",
       "      <td>8</td>\n",
       "      <td>80</td>\n",
       "    </tr>\n",
       "    <tr>\n",
       "      <th>4</th>\n",
       "      <td>4</td>\n",
       "      <td>50</td>\n",
       "      <td>608</td>\n",
       "      <td>1350</td>\n",
       "      <td>97</td>\n",
       "      <td>Gearbox Software</td>\n",
       "      <td>0</td>\n",
       "      <td>Action</td>\n",
       "      <td>499</td>\n",
       "      <td>English, French, German, Korean</td>\n",
       "      <td>...</td>\n",
       "      <td>113</td>\n",
       "      <td>Half-Life: Opposing Force</td>\n",
       "      <td>273</td>\n",
       "      <td>5,000,000 .. 10,000,000</td>\n",
       "      <td>5079</td>\n",
       "      <td>499</td>\n",
       "      <td>Valve</td>\n",
       "      <td>90.0</td>\n",
       "      <td>20</td>\n",
       "      <td>94</td>\n",
       "    </tr>\n",
       "    <tr>\n",
       "      <th>5</th>\n",
       "      <td>5</td>\n",
       "      <td>60</td>\n",
       "      <td>519</td>\n",
       "      <td>985</td>\n",
       "      <td>11</td>\n",
       "      <td>Valve</td>\n",
       "      <td>0</td>\n",
       "      <td>Action</td>\n",
       "      <td>499</td>\n",
       "      <td>English, French, German, Italian, Spanish - Sp...</td>\n",
       "      <td>...</td>\n",
       "      <td>3</td>\n",
       "      <td>Ricochet</td>\n",
       "      <td>656</td>\n",
       "      <td>5,000,000 .. 10,000,000</td>\n",
       "      <td>2667</td>\n",
       "      <td>499</td>\n",
       "      <td>Valve</td>\n",
       "      <td>52.0</td>\n",
       "      <td>15</td>\n",
       "      <td>78</td>\n",
       "    </tr>\n",
       "    <tr>\n",
       "      <th>6</th>\n",
       "      <td>6</td>\n",
       "      <td>70</td>\n",
       "      <td>660</td>\n",
       "      <td>1423</td>\n",
       "      <td>527</td>\n",
       "      <td>Valve</td>\n",
       "      <td>0</td>\n",
       "      <td>Action</td>\n",
       "      <td>999</td>\n",
       "      <td>English, French, German, Italian, Spanish - Sp...</td>\n",
       "      <td>...</td>\n",
       "      <td>121</td>\n",
       "      <td>Half-Life</td>\n",
       "      <td>1074</td>\n",
       "      <td>5,000,000 .. 10,000,000</td>\n",
       "      <td>26974</td>\n",
       "      <td>999</td>\n",
       "      <td>Valve</td>\n",
       "      <td>95.0</td>\n",
       "      <td>20</td>\n",
       "      <td>95</td>\n",
       "    </tr>\n",
       "    <tr>\n",
       "      <th>7</th>\n",
       "      <td>7</td>\n",
       "      <td>80</td>\n",
       "      <td>1290</td>\n",
       "      <td>1512</td>\n",
       "      <td>788</td>\n",
       "      <td>Valve</td>\n",
       "      <td>0</td>\n",
       "      <td>Action</td>\n",
       "      <td>999</td>\n",
       "      <td>English, French, German, Italian, Spanish - Sp...</td>\n",
       "      <td>...</td>\n",
       "      <td>31</td>\n",
       "      <td>Counter-Strike: Condition Zero</td>\n",
       "      <td>1389</td>\n",
       "      <td>10,000,000 .. 20,000,000</td>\n",
       "      <td>11781</td>\n",
       "      <td>999</td>\n",
       "      <td>Valve</td>\n",
       "      <td>74.0</td>\n",
       "      <td>20</td>\n",
       "      <td>88</td>\n",
       "    </tr>\n",
       "    <tr>\n",
       "      <th>8</th>\n",
       "      <td>8</td>\n",
       "      <td>130</td>\n",
       "      <td>612</td>\n",
       "      <td>1140</td>\n",
       "      <td>45</td>\n",
       "      <td>Gearbox Software</td>\n",
       "      <td>0</td>\n",
       "      <td>Action</td>\n",
       "      <td>499</td>\n",
       "      <td>English, French, German</td>\n",
       "      <td>...</td>\n",
       "      <td>68</td>\n",
       "      <td>Half-Life: Blue Shift</td>\n",
       "      <td>403</td>\n",
       "      <td>5,000,000 .. 10,000,000</td>\n",
       "      <td>3678</td>\n",
       "      <td>499</td>\n",
       "      <td>Valve</td>\n",
       "      <td>77.0</td>\n",
       "      <td>18</td>\n",
       "      <td>89</td>\n",
       "    </tr>\n",
       "    <tr>\n",
       "      <th>9</th>\n",
       "      <td>9</td>\n",
       "      <td>220</td>\n",
       "      <td>351</td>\n",
       "      <td>957</td>\n",
       "      <td>864</td>\n",
       "      <td>Valve</td>\n",
       "      <td>0</td>\n",
       "      <td>Action</td>\n",
       "      <td>999</td>\n",
       "      <td>English, French, German, Italian, Korean, Span...</td>\n",
       "      <td>...</td>\n",
       "      <td>313</td>\n",
       "      <td>Half-Life 2</td>\n",
       "      <td>2356</td>\n",
       "      <td>5,000,000 .. 10,000,000</td>\n",
       "      <td>66606</td>\n",
       "      <td>999</td>\n",
       "      <td>Valve</td>\n",
       "      <td>95.0</td>\n",
       "      <td>20</td>\n",
       "      <td>96</td>\n",
       "    </tr>\n",
       "  </tbody>\n",
       "</table>\n",
       "<p>10 rows × 21 columns</p>\n",
       "</div>"
      ],
      "text/plain": [
       "   Unnamed: 0  appid  average_2weeks  average_forever    ccu  \\\n",
       "0           0     10             938            11035  20192   \n",
       "1           1     20             512              456     99   \n",
       "2           2     30             531             1913    155   \n",
       "3           3     40             989             1834      6   \n",
       "4           4     50             608             1350     97   \n",
       "5           5     60             519              985     11   \n",
       "6           6     70             660             1423    527   \n",
       "7           7     80            1290             1512    788   \n",
       "8           8    130             612             1140     45   \n",
       "9           9    220             351              957    864   \n",
       "\n",
       "          developer  discount   genre  initialprice  \\\n",
       "0             Valve         0  Action           999   \n",
       "1             Valve         0  Action           499   \n",
       "2             Valve         0  Action           499   \n",
       "3             Valve         0  Action           499   \n",
       "4  Gearbox Software         0  Action           499   \n",
       "5             Valve         0  Action           499   \n",
       "6             Valve         0  Action           999   \n",
       "7             Valve         0  Action           999   \n",
       "8  Gearbox Software         0  Action           499   \n",
       "9             Valve         0  Action           999   \n",
       "\n",
       "                                           languages    ...      \\\n",
       "0  English, French, German, Italian, Spanish - Sp...    ...       \n",
       "1  English, French, German, Italian, Spanish - Sp...    ...       \n",
       "2  English, French, German, Italian, Spanish - Spain    ...       \n",
       "3  English, French, German, Italian, Spanish - Sp...    ...       \n",
       "4                    English, French, German, Korean    ...       \n",
       "5  English, French, German, Italian, Spanish - Sp...    ...       \n",
       "6  English, French, German, Italian, Spanish - Sp...    ...       \n",
       "7  English, French, German, Italian, Spanish - Sp...    ...       \n",
       "8                            English, French, German    ...       \n",
       "9  English, French, German, Italian, Korean, Span...    ...       \n",
       "\n",
       "   median_forever                            name negative  \\\n",
       "0             192                  Counter-Strike     3213   \n",
       "1              15           Team Fortress Classic      624   \n",
       "2              16                   Day of Defeat      384   \n",
       "3               8              Deathmatch Classic      265   \n",
       "4             113       Half-Life: Opposing Force      273   \n",
       "5               3                        Ricochet      656   \n",
       "6             121                       Half-Life     1074   \n",
       "7              31  Counter-Strike: Condition Zero     1389   \n",
       "8              68           Half-Life: Blue Shift      403   \n",
       "9             313                     Half-Life 2     2356   \n",
       "\n",
       "                     owners positive  price  publisher score_rank  tags  \\\n",
       "0  10,000,000 .. 20,000,000   122294    999      Valve       97.0    20   \n",
       "1   5,000,000 .. 10,000,000     3230    499      Valve       58.0    20   \n",
       "2   5,000,000 .. 10,000,000     3363    499      Valve       74.0    15   \n",
       "3   5,000,000 .. 10,000,000     1244    499      Valve       56.0     8   \n",
       "4   5,000,000 .. 10,000,000     5079    499      Valve       90.0    20   \n",
       "5   5,000,000 .. 10,000,000     2667    499      Valve       52.0    15   \n",
       "6   5,000,000 .. 10,000,000    26974    999      Valve       95.0    20   \n",
       "7  10,000,000 .. 20,000,000    11781    999      Valve       74.0    20   \n",
       "8   5,000,000 .. 10,000,000     3678    499      Valve       77.0    18   \n",
       "9   5,000,000 .. 10,000,000    66606    999      Valve       95.0    20   \n",
       "\n",
       "   userscore  \n",
       "0         96  \n",
       "1         81  \n",
       "2         86  \n",
       "3         80  \n",
       "4         94  \n",
       "5         78  \n",
       "6         95  \n",
       "7         88  \n",
       "8         89  \n",
       "9         96  \n",
       "\n",
       "[10 rows x 21 columns]"
      ]
     },
     "execution_count": 170,
     "metadata": {},
     "output_type": "execute_result"
    }
   ],
   "source": [
    "game_temp = pd.read_csv('game_db.csv')[:10]\n",
    "game_temp"
   ]
  },
  {
   "cell_type": "code",
   "execution_count": 157,
   "metadata": {},
   "outputs": [
    {
     "ename": "AttributeError",
     "evalue": "'numpy.ndarray' object has no attribute 'append'",
     "output_type": "error",
     "traceback": [
      "\u001b[1;31m---------------------------------------------------------------------------\u001b[0m",
      "\u001b[1;31mAttributeError\u001b[0m                            Traceback (most recent call last)",
      "\u001b[1;32m<ipython-input-157-791992d31446>\u001b[0m in \u001b[0;36m<module>\u001b[1;34m\u001b[0m\n\u001b[0;32m      5\u001b[0m     temp_lt = np.array([temp['score_rank'], temp['positive'], temp['negative'], temp['userscore'], temp['average_forever'], temp['average_2weeks'],\n\u001b[0;32m      6\u001b[0m               len(temp['languages'].split(',')), len(temp['tags']), temp['ccu']])\n\u001b[1;32m----> 7\u001b[1;33m     \u001b[0mgame_arr\u001b[0m\u001b[1;33m.\u001b[0m\u001b[0mappend\u001b[0m\u001b[1;33m(\u001b[0m\u001b[0mtemp_lt\u001b[0m\u001b[1;33m)\u001b[0m\u001b[1;33m\u001b[0m\u001b[1;33m\u001b[0m\u001b[0m\n\u001b[0m",
      "\u001b[1;31mAttributeError\u001b[0m: 'numpy.ndarray' object has no attribute 'append'"
     ]
    }
   ],
   "source": [
    "import numpy as np\n",
    "game_arr= np.array([])\n",
    "for i in range(1000):\n",
    "    temp = game_db[i]\n",
    "    temp_lt = np.array([temp['score_rank'], temp['positive'], temp['negative'], temp['userscore'], temp['average_forever'], temp['average_2weeks'],\n",
    "              len(temp['languages'].split(',')), len(temp['tags']), temp['ccu']])\n",
    "    game_arr.append(temp_lt)"
   ]
  },
  {
   "cell_type": "code",
   "execution_count": 156,
   "metadata": {},
   "outputs": [
    {
     "data": {
      "text/plain": [
       "array([], dtype=float64)"
      ]
     },
     "execution_count": 156,
     "metadata": {},
     "output_type": "execute_result"
    }
   ],
   "source": [
    "game_arr"
   ]
  },
  {
   "cell_type": "code",
   "execution_count": 144,
   "metadata": {},
   "outputs": [
    {
     "ename": "ValueError",
     "evalue": "could not convert string to float: ",
     "output_type": "error",
     "traceback": [
      "\u001b[1;31m---------------------------------------------------------------------------\u001b[0m",
      "\u001b[1;31mValueError\u001b[0m                                Traceback (most recent call last)",
      "\u001b[1;32m<ipython-input-144-051c66b8f5c8>\u001b[0m in \u001b[0;36m<module>\u001b[1;34m\u001b[0m\n\u001b[0;32m      1\u001b[0m \u001b[1;32mfrom\u001b[0m \u001b[0msklearn\u001b[0m\u001b[1;33m.\u001b[0m\u001b[0mcluster\u001b[0m \u001b[1;32mimport\u001b[0m \u001b[0mKMeans\u001b[0m\u001b[1;33m\u001b[0m\u001b[1;33m\u001b[0m\u001b[0m\n\u001b[1;32m----> 2\u001b[1;33m \u001b[0mk_means\u001b[0m \u001b[1;33m=\u001b[0m \u001b[0mKMeans\u001b[0m\u001b[1;33m(\u001b[0m\u001b[1;33m)\u001b[0m\u001b[1;33m.\u001b[0m\u001b[0mfit\u001b[0m\u001b[1;33m(\u001b[0m\u001b[0mgame_arr\u001b[0m\u001b[1;33m)\u001b[0m\u001b[1;33m\u001b[0m\u001b[1;33m\u001b[0m\u001b[0m\n\u001b[0m",
      "\u001b[1;32mC:\\ProgramData\\Anaconda3\\lib\\site-packages\\sklearn\\cluster\\k_means_.py\u001b[0m in \u001b[0;36mfit\u001b[1;34m(self, X, y, sample_weight)\u001b[0m\n\u001b[0;32m    969\u001b[0m                 \u001b[0mtol\u001b[0m\u001b[1;33m=\u001b[0m\u001b[0mself\u001b[0m\u001b[1;33m.\u001b[0m\u001b[0mtol\u001b[0m\u001b[1;33m,\u001b[0m \u001b[0mrandom_state\u001b[0m\u001b[1;33m=\u001b[0m\u001b[0mrandom_state\u001b[0m\u001b[1;33m,\u001b[0m \u001b[0mcopy_x\u001b[0m\u001b[1;33m=\u001b[0m\u001b[0mself\u001b[0m\u001b[1;33m.\u001b[0m\u001b[0mcopy_x\u001b[0m\u001b[1;33m,\u001b[0m\u001b[1;33m\u001b[0m\u001b[1;33m\u001b[0m\u001b[0m\n\u001b[0;32m    970\u001b[0m                 \u001b[0mn_jobs\u001b[0m\u001b[1;33m=\u001b[0m\u001b[0mself\u001b[0m\u001b[1;33m.\u001b[0m\u001b[0mn_jobs\u001b[0m\u001b[1;33m,\u001b[0m \u001b[0malgorithm\u001b[0m\u001b[1;33m=\u001b[0m\u001b[0mself\u001b[0m\u001b[1;33m.\u001b[0m\u001b[0malgorithm\u001b[0m\u001b[1;33m,\u001b[0m\u001b[1;33m\u001b[0m\u001b[1;33m\u001b[0m\u001b[0m\n\u001b[1;32m--> 971\u001b[1;33m                 return_n_iter=True)\n\u001b[0m\u001b[0;32m    972\u001b[0m         \u001b[1;32mreturn\u001b[0m \u001b[0mself\u001b[0m\u001b[1;33m\u001b[0m\u001b[1;33m\u001b[0m\u001b[0m\n\u001b[0;32m    973\u001b[0m \u001b[1;33m\u001b[0m\u001b[0m\n",
      "\u001b[1;32mC:\\ProgramData\\Anaconda3\\lib\\site-packages\\sklearn\\cluster\\k_means_.py\u001b[0m in \u001b[0;36mk_means\u001b[1;34m(X, n_clusters, sample_weight, init, precompute_distances, n_init, max_iter, verbose, tol, random_state, copy_x, n_jobs, algorithm, return_n_iter)\u001b[0m\n\u001b[0;32m    309\u001b[0m     \u001b[0morder\u001b[0m \u001b[1;33m=\u001b[0m \u001b[1;34m\"C\"\u001b[0m \u001b[1;32mif\u001b[0m \u001b[0mcopy_x\u001b[0m \u001b[1;32melse\u001b[0m \u001b[1;32mNone\u001b[0m\u001b[1;33m\u001b[0m\u001b[1;33m\u001b[0m\u001b[0m\n\u001b[0;32m    310\u001b[0m     X = check_array(X, accept_sparse='csr', dtype=[np.float64, np.float32],\n\u001b[1;32m--> 311\u001b[1;33m                     order=order, copy=copy_x)\n\u001b[0m\u001b[0;32m    312\u001b[0m     \u001b[1;31m# verify that the number of samples given is larger than k\u001b[0m\u001b[1;33m\u001b[0m\u001b[1;33m\u001b[0m\u001b[1;33m\u001b[0m\u001b[0m\n\u001b[0;32m    313\u001b[0m     \u001b[1;32mif\u001b[0m \u001b[0m_num_samples\u001b[0m\u001b[1;33m(\u001b[0m\u001b[0mX\u001b[0m\u001b[1;33m)\u001b[0m \u001b[1;33m<\u001b[0m \u001b[0mn_clusters\u001b[0m\u001b[1;33m:\u001b[0m\u001b[1;33m\u001b[0m\u001b[1;33m\u001b[0m\u001b[0m\n",
      "\u001b[1;32mC:\\ProgramData\\Anaconda3\\lib\\site-packages\\sklearn\\utils\\validation.py\u001b[0m in \u001b[0;36mcheck_array\u001b[1;34m(array, accept_sparse, accept_large_sparse, dtype, order, copy, force_all_finite, ensure_2d, allow_nd, ensure_min_samples, ensure_min_features, warn_on_dtype, estimator)\u001b[0m\n\u001b[0;32m    525\u001b[0m             \u001b[1;32mtry\u001b[0m\u001b[1;33m:\u001b[0m\u001b[1;33m\u001b[0m\u001b[1;33m\u001b[0m\u001b[0m\n\u001b[0;32m    526\u001b[0m                 \u001b[0mwarnings\u001b[0m\u001b[1;33m.\u001b[0m\u001b[0msimplefilter\u001b[0m\u001b[1;33m(\u001b[0m\u001b[1;34m'error'\u001b[0m\u001b[1;33m,\u001b[0m \u001b[0mComplexWarning\u001b[0m\u001b[1;33m)\u001b[0m\u001b[1;33m\u001b[0m\u001b[1;33m\u001b[0m\u001b[0m\n\u001b[1;32m--> 527\u001b[1;33m                 \u001b[0marray\u001b[0m \u001b[1;33m=\u001b[0m \u001b[0mnp\u001b[0m\u001b[1;33m.\u001b[0m\u001b[0masarray\u001b[0m\u001b[1;33m(\u001b[0m\u001b[0marray\u001b[0m\u001b[1;33m,\u001b[0m \u001b[0mdtype\u001b[0m\u001b[1;33m=\u001b[0m\u001b[0mdtype\u001b[0m\u001b[1;33m,\u001b[0m \u001b[0morder\u001b[0m\u001b[1;33m=\u001b[0m\u001b[0morder\u001b[0m\u001b[1;33m)\u001b[0m\u001b[1;33m\u001b[0m\u001b[1;33m\u001b[0m\u001b[0m\n\u001b[0m\u001b[0;32m    528\u001b[0m             \u001b[1;32mexcept\u001b[0m \u001b[0mComplexWarning\u001b[0m\u001b[1;33m:\u001b[0m\u001b[1;33m\u001b[0m\u001b[1;33m\u001b[0m\u001b[0m\n\u001b[0;32m    529\u001b[0m                 raise ValueError(\"Complex data not supported\\n\"\n",
      "\u001b[1;32mC:\\ProgramData\\Anaconda3\\lib\\site-packages\\numpy\\core\\numeric.py\u001b[0m in \u001b[0;36masarray\u001b[1;34m(a, dtype, order)\u001b[0m\n\u001b[0;32m    499\u001b[0m \u001b[1;33m\u001b[0m\u001b[0m\n\u001b[0;32m    500\u001b[0m     \"\"\"\n\u001b[1;32m--> 501\u001b[1;33m     \u001b[1;32mreturn\u001b[0m \u001b[0marray\u001b[0m\u001b[1;33m(\u001b[0m\u001b[0ma\u001b[0m\u001b[1;33m,\u001b[0m \u001b[0mdtype\u001b[0m\u001b[1;33m,\u001b[0m \u001b[0mcopy\u001b[0m\u001b[1;33m=\u001b[0m\u001b[1;32mFalse\u001b[0m\u001b[1;33m,\u001b[0m \u001b[0morder\u001b[0m\u001b[1;33m=\u001b[0m\u001b[0morder\u001b[0m\u001b[1;33m)\u001b[0m\u001b[1;33m\u001b[0m\u001b[1;33m\u001b[0m\u001b[0m\n\u001b[0m\u001b[0;32m    502\u001b[0m \u001b[1;33m\u001b[0m\u001b[0m\n\u001b[0;32m    503\u001b[0m \u001b[1;33m\u001b[0m\u001b[0m\n",
      "\u001b[1;31mValueError\u001b[0m: could not convert string to float: "
     ]
    }
   ],
   "source": [
    "from sklearn.cluster import KMeans\n",
    "k_means = KMeans().fit(game_arr)"
   ]
  }
 ],
 "metadata": {
  "kernelspec": {
   "display_name": "Python 3",
   "language": "python",
   "name": "python3"
  },
  "language_info": {
   "codemirror_mode": {
    "name": "ipython",
    "version": 3
   },
   "file_extension": ".py",
   "mimetype": "text/x-python",
   "name": "python",
   "nbconvert_exporter": "python",
   "pygments_lexer": "ipython3",
   "version": "3.7.1"
  }
 },
 "nbformat": 4,
 "nbformat_minor": 2
}
